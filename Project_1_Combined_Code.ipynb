{
 "cells": [
  {
   "cell_type": "code",
   "execution_count": 5,
   "id": "1f3da721",
   "metadata": {},
   "outputs": [],
   "source": [
    "# Import libraries (delete ones we don't use later)\n",
    "import csv\n",
    "import json\n",
    "import requests\n",
    "import pandas as pd\n",
    "import matplotlib.pyplot as plt\n",
    "import scipy.stats as st\n",
    "import numpy as np\n",
    "from alpha_api_key import api_key"
   ]
  },
  {
   "cell_type": "code",
   "execution_count": 10,
   "id": "34028c9c",
   "metadata": {
    "scrolled": true
   },
   "outputs": [
    {
     "name": "stdout",
     "output_type": "stream",
     "text": [
      "https://www.alphavantage.co/query?function=TIME_SERIES_MONTHLY&symbol=ABBV&apikey=QJ3L29WRI4F95OII&datatype=csv\n",
      "https://www.alphavantage.co/query?function=TIME_SERIES_MONTHLY&symbol=BMY&apikey=QJ3L29WRI4F95OII&datatype=csv\n",
      "https://www.alphavantage.co/query?function=TIME_SERIES_MONTHLY&symbol=CTLT&apikey=QJ3L29WRI4F95OII&datatype=csv\n",
      "https://www.alphavantage.co/query?function=TIME_SERIES_MONTHLY&symbol=LLY&apikey=QJ3L29WRI4F95OII&datatype=csv\n",
      "https://www.alphavantage.co/query?function=TIME_SERIES_MONTHLY&symbol=JNJ&apikey=QJ3L29WRI4F95OII&datatype=csv\n",
      "https://www.alphavantage.co/query?function=TIME_SERIES_MONTHLY&symbol=MRK&apikey=QJ3L29WRI4F95OII&datatype=csv\n",
      "https://www.alphavantage.co/query?function=TIME_SERIES_MONTHLY&symbol=OGN&apikey=QJ3L29WRI4F95OII&datatype=csv\n",
      "https://www.alphavantage.co/query?function=TIME_SERIES_MONTHLY&symbol=PFE&apikey=QJ3L29WRI4F95OII&datatype=csv\n",
      "https://www.alphavantage.co/query?function=TIME_SERIES_MONTHLY&symbol=VTRS&apikey=QJ3L29WRI4F95OII&datatype=csv\n",
      "https://www.alphavantage.co/query?function=TIME_SERIES_MONTHLY&symbol=ZTS&apikey=QJ3L29WRI4F95OII&datatype=csv\n"
     ]
    }
   ],
   "source": [
    "# Create our stock csv files by pulling from Alpha Advantage API\n",
    "ticker = [\"ABBV\", \"BMY\", \"CTLT\", \"LLY\", \"JNJ\", \"MRK\", \"OGN\", \"PFE\", \"VTRS\", \"ZTS\" ]\n",
    "\n",
    "for i in ticker:\n",
    "    url = \"https://www.alphavantage.co/query?function=TIME_SERIES_MONTHLY&symbol=\" + i + \\\n",
    "    \"&apikey=\" + api_key + \"&datatype=csv\"\n",
    "    \n",
    "    print(url)"
   ]
  },
  {
   "cell_type": "code",
   "execution_count": 21,
   "id": "6604a055",
   "metadata": {},
   "outputs": [],
   "source": [
    "# Import csv files and merge into one data frame\n",
    "abbv_stock = \"csv_files/monthly_ABBV.csv\"\n",
    "bmy_stock = \"csv_files/monthly_BMY.csv\"\n",
    "ctlt_stock = \"csv_files/monthly_CTLT.csv\"\n",
    "lly_stock = \"csv_files/monthly_LLY.csv\"\n",
    "jnj_stock = \"csv_files/monthly_JNJ.csv\"\n",
    "mrk_stock = \"csv_files/monthly_MRK.csv\"\n",
    "ogn_stock = \"csv_files/monthly_OGN.csv\"\n",
    "pfe_stock = \"csv_files/monthly_PFE.csv\"\n",
    "vtrs_stock = \"csv_files/monthly_VTRS.csv\"\n",
    "zts_stock = \"csv_files/monthly_ZTS.csv\"\n",
    "\n",
    "abbv_df = pd.read_csv(abbv_stock)\n",
    "bmy_df = pd.read_csv(bmy_stock)\n",
    "ctlt_df = pd.read_csv(ctlt_stock)\n",
    "lly_df = pd.read_csv(lly_stock)\n",
    "jnj_df = pd.read_csv(jnj_stock)\n",
    "mrk_df = pd.read_csv(mrk_stock)\n",
    "ogn_df = pd.read_csv(ogn_stock)\n",
    "pfe_df = pd.read_csv(pfe_stock)\n",
    "vtrs_df = pd.read_csv(vtrs_stock)\n",
    "zts_df = pd.read_csv(zts_stock)\n",
    "\n",
    "merge_df = pd.merge(pd.merge(pd.merge(pd.merge(pd.merge(pd.merge(pd.merge(pd.merge(pd.merge(\\\n",
    "            abbv_df, bmy_df, how='outer'), ctlt_df, how='outer'), lly_df, how='outer'), \\\n",
    "            jnj_df, how='outer'), mrk_df, how='outer'), ogn_df, how='outer'), \\\n",
    "            pfe_df, how='outer'), vtrs_df, how='outer'), zts_df, how='outer')\n",
    "\n",
    "# Format timestamp column so they are all the same\n",
    "merge_df['timestamp'] = pd.to_datetime(merge_df['timestamp'], format='mixed')\n",
    "\n",
    "# Save merged data frame to new csv\n",
    "merge_df.to_csv('csv_files/merge_stock.csv', index=False)"
   ]
  },
  {
   "cell_type": "code",
   "execution_count": null,
   "id": "906831e6",
   "metadata": {},
   "outputs": [],
   "source": []
  }
 ],
 "metadata": {
  "kernelspec": {
   "display_name": "Python 3 (ipykernel)",
   "language": "python",
   "name": "python3"
  },
  "language_info": {
   "codemirror_mode": {
    "name": "ipython",
    "version": 3
   },
   "file_extension": ".py",
   "mimetype": "text/x-python",
   "name": "python",
   "nbconvert_exporter": "python",
   "pygments_lexer": "ipython3",
   "version": "3.11.4"
  }
 },
 "nbformat": 4,
 "nbformat_minor": 5
}
