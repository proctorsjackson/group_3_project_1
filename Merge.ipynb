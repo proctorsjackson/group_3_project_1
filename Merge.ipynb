{
 "cells": [
  {
   "cell_type": "code",
   "execution_count": 2,
   "id": "119568e7",
   "metadata": {},
   "outputs": [],
   "source": [
    "import json\n",
    "import requests\n",
    "import pandas as pd\n",
    "import matplotlib.pyplot as plt\n",
    "import scipy.stats as st"
   ]
  },
  {
   "cell_type": "code",
   "execution_count": 21,
   "id": "2e774afc",
   "metadata": {},
   "outputs": [],
   "source": [
    "abbv_stock = \"Corey_Stock_csv_files/monthly_ABBV.csv\"\n",
    "bmy_stock = \"Corey_Stock_csv_files/monthly_BMY.csv\"\n",
    "ctlt_stock = \"Corey_Stock_csv_files/monthly_CTLT.csv\"\n",
    "lly_stock = \"Corey_Stock_csv_files/monthly_LLY.csv\"\n",
    "jnj_stock = \"Corey_Stock_csv_files/monthly_JNJ.csv\"\n",
    "mrk_stock = \"Corey_Stock_csv_files/monthly_MRK.csv\"\n",
    "ogn_stock = \"Corey_Stock_csv_files/monthly_OGN.csv\"\n",
    "pfe_stock = \"Corey_Stock_csv_files/monthly_PFE.csv\"\n",
    "vtrs_stock = \"Corey_Stock_csv_files/monthly_VTRS.csv\"\n",
    "zts_stock = \"Corey_Stock_csv_files/monthly_ZTS.csv\"\n",
    "\n",
    "abbv_df = pd.read_csv(abbv_stock)\n",
    "bmy_df = pd.read_csv(bmy_stock)\n",
    "ctlt_df = pd.read_csv(ctlt_stock)\n",
    "lly_df = pd.read_csv(lly_stock)\n",
    "jnj_df = pd.read_csv(jnj_stock)\n",
    "mrk_df = pd.read_csv(mrk_stock)\n",
    "ogn_df = pd.read_csv(ogn_stock)\n",
    "pfe_df = pd.read_csv(pfe_stock)\n",
    "vtrs_df = pd.read_csv(vtrs_stock)\n",
    "zts_df = pd.read_csv(zts_stock)\n",
    "\n",
    "merge_df = pd.merge(pd.merge(pd.merge(pd.merge(pd.merge(pd.merge(pd.merge(pd.merge(pd.merge(\\\n",
    "            abbv_df, bmy_df, how='outer'), ctlt_df, how='outer'), lly_df, how='outer'), \\\n",
    "            jnj_df, how='outer'), mrk_df, how='outer'), ogn_df, how='outer'), \\\n",
    "            pfe_df, how='outer'), vtrs_df, how='outer'), zts_df, how='outer')\n",
    "#merge_df.to_csv(\"merge.csv\", index=False)\n",
    "merge_df['timestamp'] = pd.to_datetime(merge_df['timestamp'], format='mixed')\n",
    "merge_df.to_csv('Corey_Stock_csv_files/merge2.csv', index=False)"
   ]
  },
  {
   "cell_type": "code",
   "execution_count": null,
   "id": "2576300e",
   "metadata": {},
   "outputs": [],
   "source": []
  }
 ],
 "metadata": {
  "kernelspec": {
   "display_name": "Python 3 (ipykernel)",
   "language": "python",
   "name": "python3"
  },
  "language_info": {
   "codemirror_mode": {
    "name": "ipython",
    "version": 3
   },
   "file_extension": ".py",
   "mimetype": "text/x-python",
   "name": "python",
   "nbconvert_exporter": "python",
   "pygments_lexer": "ipython3",
   "version": "3.11.4"
  }
 },
 "nbformat": 4,
 "nbformat_minor": 5
}
