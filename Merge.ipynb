{
 "cells": [
  {
   "cell_type": "code",
   "execution_count": 1,
   "id": "eb5bfac6",
   "metadata": {},
   "outputs": [],
   "source": [
    "import json\n",
    "import requests\n",
    "import pandas as pd\n",
    "import matplotlib.pyplot as plt\n",
    "import scipy.stats as st"
   ]
  },
  {
   "cell_type": "code",
   "execution_count": 18,
   "id": "afa78647",
   "metadata": {},
   "outputs": [],
   "source": [
    "abbv_stock = \"Corey_Stock_csv_files/monthly_ABBV.csv\"\n",
    "bmy_stock = \"Corey_Stock_csv_files/monthly_BMY.csv\"\n",
    "ctlt_stock = \"Corey_Stock_csv_files/monthly_CTLT.csv\"\n",
    "lly_stock = \"Corey_Stock_csv_files/monthly_LLY.csv\"\n",
    "\n",
    "abbv_df = pd.read_csv(abbv_stock)\n",
    "bmy_df = pd.read_csv(bmy_stock)\n",
    "ctlt_df = pd.read_csv(ctlt_stock)\n",
    "lly_df = pd.read_csv(lly_stock)\n",
    "\n",
    "merge_df = pd.merge(pd.merge(pd.merge(abbv_df, bmy_df, how='outer'), ctlt_df, how='outer'), \\\n",
    "                    lly_df, how='outer')\n",
    "merge_df.to_csv(\"merge.csv\", index=False)"
   ]
  },
  {
   "cell_type": "code",
   "execution_count": null,
   "id": "cf63c852",
   "metadata": {},
   "outputs": [],
   "source": []
  }
 ],
 "metadata": {
  "kernelspec": {
   "display_name": "Python 3 (ipykernel)",
   "language": "python",
   "name": "python3"
  },
  "language_info": {
   "codemirror_mode": {
    "name": "ipython",
    "version": 3
   },
   "file_extension": ".py",
   "mimetype": "text/x-python",
   "name": "python",
   "nbconvert_exporter": "python",
   "pygments_lexer": "ipython3",
   "version": "3.11.4"
  }
 },
 "nbformat": 4,
 "nbformat_minor": 5
}
