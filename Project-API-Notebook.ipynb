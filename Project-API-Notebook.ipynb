{
 "cells": [
  {
   "cell_type": "code",
   "execution_count": 1,
   "id": "4b67f0cd",
   "metadata": {},
   "outputs": [],
   "source": [
    "import json\n",
    "import requests\n",
    "import pandas as pd\n"
   ]
  },
  {
   "cell_type": "code",
   "execution_count": 5,
   "id": "876ca5b8",
   "metadata": {},
   "outputs": [
    {
     "name": "stdout",
     "output_type": "stream",
     "text": [
      "https://www.alphavantage.co/query?function=TIME_SERIES_MONTHLY_ADJUSTED&symbol=ABBV&apikey=QJ3L29WRI4F95OII&datatype=csv\n",
      "https://www.alphavantage.co/query?function=TIME_SERIES_MONTHLY&symbol=ABBV&apikey=QJ3L29WRI4F95OII&datatype=csv\n"
     ]
    }
   ],
   "source": [
    "api_key = \"QJ3L29WRI4F95OII\"\n",
    "\n",
    "ticker = \"ABBV\"\n",
    "\n",
    "url = \"https://www.alphavantage.co/query?function=TIME_SERIES_MONTHLY_ADJUSTED&symbol=\" + ticker + \\\n",
    "\"&apikey=\" + api_key + \"&datatype=csv\"\n",
    "\n",
    "url2 = \"https://www.alphavantage.co/query?function=TIME_SERIES_MONTHLY&symbol=\" + ticker + \\\n",
    "\"&apikey=\" + api_key + \"&datatype=csv\"\n",
    "\n",
    "print(url)\n",
    "print(url2)"
   ]
  },
  {
   "cell_type": "code",
   "execution_count": null,
   "id": "4551b9c4",
   "metadata": {},
   "outputs": [],
   "source": []
  }
 ],
 "metadata": {
  "kernelspec": {
   "display_name": "Python 3 (ipykernel)",
   "language": "python",
   "name": "python3"
  },
  "language_info": {
   "codemirror_mode": {
    "name": "ipython",
    "version": 3
   },
   "file_extension": ".py",
   "mimetype": "text/x-python",
   "name": "python",
   "nbconvert_exporter": "python",
   "pygments_lexer": "ipython3",
   "version": "3.11.4"
  }
 },
 "nbformat": 4,
 "nbformat_minor": 5
}
